{
  "nbformat": 4,
  "nbformat_minor": 0,
  "metadata": {
    "colab": {
      "provenance": []
    },
    "kernelspec": {
      "name": "python3",
      "display_name": "Python 3"
    },
    "language_info": {
      "name": "python"
    }
  },
  "cells": [
    {
      "cell_type": "markdown",
      "source": [
        "<h4>Lab No 5</h4>\n",
        "<h4 align=\"right\">Utkarsh Bhangale<br>2020802124</h4>\n"
      ],
      "metadata": {
        "id": "-j1O6oGxmJyT"
      }
    },
    {
      "cell_type": "markdown",
      "source": [
        "Simple Linear Regression"
      ],
      "metadata": {
        "id": "dBnvFx_xmf0U"
      }
    },
    {
      "cell_type": "code",
      "source": [
        "import numpy as np\n",
        "import pandas as pd\n",
        "import matplotlib.pyplot as plt\n",
        "from sklearn.linear_model import LinearRegression"
      ],
      "metadata": {
        "id": "0RF-N3MJni48"
      },
      "execution_count": 12,
      "outputs": []
    },
    {
      "cell_type": "code",
      "execution_count": 3,
      "metadata": {
        "id": "r-0e760nmEEp"
      },
      "outputs": [],
      "source": [
        "class MeraLR:\n",
        "    \n",
        "    def __init__(self):\n",
        "        self.m = None\n",
        "        self.b = None\n",
        "        \n",
        "    def fit(self,X_train,y_train):\n",
        "        \n",
        "        num = 0\n",
        "        den = 0\n",
        "        \n",
        "        for i in range(X_train.shape[0]):\n",
        "            \n",
        "            num = num + ((X_train[i] - X_train.mean())*(y_train[i] - y_train.mean()))\n",
        "            den = den + ((X_train[i] - X_train.mean())*(X_train[i] - X_train.mean()))\n",
        "        \n",
        "        self.m = num/den\n",
        "        self.b = y_train.mean() - (self.m * X_train.mean())\n",
        "        print(self.m)\n",
        "        print(self.b)       \n",
        "    \n",
        "    def predict(self,X_test):\n",
        "        \n",
        "        print(X_test)\n",
        "        \n",
        "        return self.m * X_test + self.b"
      ]
    },
    {
      "cell_type": "code",
      "source": [
        "URL = \"https://raw.githubusercontent.com/campusx-official/100-days-of-machine-learning/main/day48-simple-linear-regression/placement.csv\"\n",
        "df = pd.read_csv(URL)\n",
        "df.head()"
      ],
      "metadata": {
        "colab": {
          "base_uri": "https://localhost:8080/",
          "height": 206
        },
        "id": "fhdJ89I3nmLD",
        "outputId": "360ec669-fab5-4a57-8448-6bb4d3e573d9"
      },
      "execution_count": 4,
      "outputs": [
        {
          "output_type": "execute_result",
          "data": {
            "text/plain": [
              "   cgpa  package\n",
              "0  6.89     3.26\n",
              "1  5.12     1.98\n",
              "2  7.82     3.25\n",
              "3  7.42     3.67\n",
              "4  6.94     3.57"
            ],
            "text/html": [
              "\n",
              "  <div id=\"df-fdc8fe9b-f769-488e-af7a-ac4d1d6f6e1a\">\n",
              "    <div class=\"colab-df-container\">\n",
              "      <div>\n",
              "<style scoped>\n",
              "    .dataframe tbody tr th:only-of-type {\n",
              "        vertical-align: middle;\n",
              "    }\n",
              "\n",
              "    .dataframe tbody tr th {\n",
              "        vertical-align: top;\n",
              "    }\n",
              "\n",
              "    .dataframe thead th {\n",
              "        text-align: right;\n",
              "    }\n",
              "</style>\n",
              "<table border=\"1\" class=\"dataframe\">\n",
              "  <thead>\n",
              "    <tr style=\"text-align: right;\">\n",
              "      <th></th>\n",
              "      <th>cgpa</th>\n",
              "      <th>package</th>\n",
              "    </tr>\n",
              "  </thead>\n",
              "  <tbody>\n",
              "    <tr>\n",
              "      <th>0</th>\n",
              "      <td>6.89</td>\n",
              "      <td>3.26</td>\n",
              "    </tr>\n",
              "    <tr>\n",
              "      <th>1</th>\n",
              "      <td>5.12</td>\n",
              "      <td>1.98</td>\n",
              "    </tr>\n",
              "    <tr>\n",
              "      <th>2</th>\n",
              "      <td>7.82</td>\n",
              "      <td>3.25</td>\n",
              "    </tr>\n",
              "    <tr>\n",
              "      <th>3</th>\n",
              "      <td>7.42</td>\n",
              "      <td>3.67</td>\n",
              "    </tr>\n",
              "    <tr>\n",
              "      <th>4</th>\n",
              "      <td>6.94</td>\n",
              "      <td>3.57</td>\n",
              "    </tr>\n",
              "  </tbody>\n",
              "</table>\n",
              "</div>\n",
              "      <button class=\"colab-df-convert\" onclick=\"convertToInteractive('df-fdc8fe9b-f769-488e-af7a-ac4d1d6f6e1a')\"\n",
              "              title=\"Convert this dataframe to an interactive table.\"\n",
              "              style=\"display:none;\">\n",
              "        \n",
              "  <svg xmlns=\"http://www.w3.org/2000/svg\" height=\"24px\"viewBox=\"0 0 24 24\"\n",
              "       width=\"24px\">\n",
              "    <path d=\"M0 0h24v24H0V0z\" fill=\"none\"/>\n",
              "    <path d=\"M18.56 5.44l.94 2.06.94-2.06 2.06-.94-2.06-.94-.94-2.06-.94 2.06-2.06.94zm-11 1L8.5 8.5l.94-2.06 2.06-.94-2.06-.94L8.5 2.5l-.94 2.06-2.06.94zm10 10l.94 2.06.94-2.06 2.06-.94-2.06-.94-.94-2.06-.94 2.06-2.06.94z\"/><path d=\"M17.41 7.96l-1.37-1.37c-.4-.4-.92-.59-1.43-.59-.52 0-1.04.2-1.43.59L10.3 9.45l-7.72 7.72c-.78.78-.78 2.05 0 2.83L4 21.41c.39.39.9.59 1.41.59.51 0 1.02-.2 1.41-.59l7.78-7.78 2.81-2.81c.8-.78.8-2.07 0-2.86zM5.41 20L4 18.59l7.72-7.72 1.47 1.35L5.41 20z\"/>\n",
              "  </svg>\n",
              "      </button>\n",
              "      \n",
              "  <style>\n",
              "    .colab-df-container {\n",
              "      display:flex;\n",
              "      flex-wrap:wrap;\n",
              "      gap: 12px;\n",
              "    }\n",
              "\n",
              "    .colab-df-convert {\n",
              "      background-color: #E8F0FE;\n",
              "      border: none;\n",
              "      border-radius: 50%;\n",
              "      cursor: pointer;\n",
              "      display: none;\n",
              "      fill: #1967D2;\n",
              "      height: 32px;\n",
              "      padding: 0 0 0 0;\n",
              "      width: 32px;\n",
              "    }\n",
              "\n",
              "    .colab-df-convert:hover {\n",
              "      background-color: #E2EBFA;\n",
              "      box-shadow: 0px 1px 2px rgba(60, 64, 67, 0.3), 0px 1px 3px 1px rgba(60, 64, 67, 0.15);\n",
              "      fill: #174EA6;\n",
              "    }\n",
              "\n",
              "    [theme=dark] .colab-df-convert {\n",
              "      background-color: #3B4455;\n",
              "      fill: #D2E3FC;\n",
              "    }\n",
              "\n",
              "    [theme=dark] .colab-df-convert:hover {\n",
              "      background-color: #434B5C;\n",
              "      box-shadow: 0px 1px 3px 1px rgba(0, 0, 0, 0.15);\n",
              "      filter: drop-shadow(0px 1px 2px rgba(0, 0, 0, 0.3));\n",
              "      fill: #FFFFFF;\n",
              "    }\n",
              "  </style>\n",
              "\n",
              "      <script>\n",
              "        const buttonEl =\n",
              "          document.querySelector('#df-fdc8fe9b-f769-488e-af7a-ac4d1d6f6e1a button.colab-df-convert');\n",
              "        buttonEl.style.display =\n",
              "          google.colab.kernel.accessAllowed ? 'block' : 'none';\n",
              "\n",
              "        async function convertToInteractive(key) {\n",
              "          const element = document.querySelector('#df-fdc8fe9b-f769-488e-af7a-ac4d1d6f6e1a');\n",
              "          const dataTable =\n",
              "            await google.colab.kernel.invokeFunction('convertToInteractive',\n",
              "                                                     [key], {});\n",
              "          if (!dataTable) return;\n",
              "\n",
              "          const docLinkHtml = 'Like what you see? Visit the ' +\n",
              "            '<a target=\"_blank\" href=https://colab.research.google.com/notebooks/data_table.ipynb>data table notebook</a>'\n",
              "            + ' to learn more about interactive tables.';\n",
              "          element.innerHTML = '';\n",
              "          dataTable['output_type'] = 'display_data';\n",
              "          await google.colab.output.renderOutput(dataTable, element);\n",
              "          const docLink = document.createElement('div');\n",
              "          docLink.innerHTML = docLinkHtml;\n",
              "          element.appendChild(docLink);\n",
              "        }\n",
              "      </script>\n",
              "    </div>\n",
              "  </div>\n",
              "  "
            ]
          },
          "metadata": {},
          "execution_count": 4
        }
      ]
    },
    {
      "cell_type": "code",
      "source": [
        "X = df.iloc[:,0].values\n",
        "y = df.iloc[:,1].values"
      ],
      "metadata": {
        "id": "qLBQDj_Jn1kS"
      },
      "execution_count": 5,
      "outputs": []
    },
    {
      "cell_type": "code",
      "source": [
        "from sklearn.model_selection import train_test_split\n",
        "X_train,X_test,y_train,y_test = train_test_split(X,y,test_size=0.2,random_state=2)"
      ],
      "metadata": {
        "id": "RIC65mDXn3CU"
      },
      "execution_count": 6,
      "outputs": []
    },
    {
      "cell_type": "code",
      "source": [
        "lr = MeraLR()\n",
        "lr.fit(X_train,y_train)"
      ],
      "metadata": {
        "colab": {
          "base_uri": "https://localhost:8080/"
        },
        "id": "-d4nDvGyn-lz",
        "outputId": "4d89714e-a5bd-43e3-ecde-5ca21bcd6fde"
      },
      "execution_count": 8,
      "outputs": [
        {
          "output_type": "stream",
          "name": "stdout",
          "text": [
            "0.5579519734250721\n",
            "-0.8961119222429152\n"
          ]
        }
      ]
    },
    {
      "cell_type": "code",
      "source": [
        "plt.scatter(df['cgpa'],df['package'])\n",
        "plt.plot(X_train,lr.predict(X_train),color='red')\n",
        "plt.xlabel('CGPA')\n",
        "plt.ylabel('Package(in lpa)')"
      ],
      "metadata": {
        "colab": {
          "base_uri": "https://localhost:8080/",
          "height": 505
        },
        "id": "R0zHZCU4oAHb",
        "outputId": "6629dc05-fcb2-4311-fb6a-88d08002932c"
      },
      "execution_count": 10,
      "outputs": [
        {
          "output_type": "stream",
          "name": "stdout",
          "text": [
            "[7.14 8.93 5.42 5.1  7.77 6.76 6.89 6.68 7.91 7.89 8.71 7.95 6.61 6.26\n",
            " 6.53 6.42 5.11 6.09 6.93 7.04 5.94 6.05 5.83 5.95 9.31 5.58 7.88 6.13\n",
            " 7.76 4.85 6.19 8.6  6.07 7.18 5.12 7.39 8.25 8.28 7.13 7.35 5.66 5.99\n",
            " 8.01 7.14 6.34 6.89 5.42 6.47 7.69 7.4  7.28 5.95 7.38 6.93 8.99 7.36\n",
            " 7.08 5.38 7.56 8.22 5.84 6.78 7.19 7.28 6.79 6.12 6.85 8.2  6.84 7.37\n",
            " 6.22 6.61 5.23 7.21 6.85 6.19 7.3  6.17 5.89 8.09 7.11 4.26 6.94 5.98\n",
            " 6.71 7.33 9.06 6.1  5.48 6.1  7.56 7.29 5.84 7.48 7.61 5.79 5.61 7.34\n",
            " 9.38 7.91 6.94 7.94 8.31 6.96 6.93 7.11 8.44 8.18 6.66 8.44 7.12 6.3\n",
            " 5.84 6.98 7.63 5.64 7.43 8.87 7.84 5.84 9.58 8.37 7.63 6.31 6.5  8.11\n",
            " 6.07 4.73 7.3  6.51 7.28 6.92 6.35 8.62 7.05 9.26 6.33 6.22 6.94 5.13\n",
            " 8.13 5.9  9.04 6.06 7.57 8.1  9.16 5.84 7.89 6.63 7.09 5.53 6.75 7.62\n",
            " 6.97 7.66 6.14 7.78 7.25 8.65]\n"
          ]
        },
        {
          "output_type": "execute_result",
          "data": {
            "text/plain": [
              "Text(0, 0.5, 'Package(in lpa)')"
            ]
          },
          "metadata": {},
          "execution_count": 10
        },
        {
          "output_type": "display_data",
          "data": {
            "text/plain": [
              "<Figure size 432x288 with 1 Axes>"
            ],
            "image/png": "[encoded data removed]"
          },
          "metadata": {
            "needs_background": "light"
          }
        }
      ]
    },
    {
      "cell_type": "code",
      "source": [
        "# Using Sk_learn\n",
        "XX = df['cgpa'].values.reshape(-1, 1)\n",
        "YY = df['package'].values"
      ],
      "metadata": {
        "id": "FsHIZViRoV17"
      },
      "execution_count": 18,
      "outputs": []
    },
    {
      "cell_type": "code",
      "source": [
        "# Fit a linear regression model\n",
        "model = LinearRegression()\n",
        "model.fit(XX, YY)\n"
      ],
      "metadata": {
        "colab": {
          "base_uri": "https://localhost:8080/",
          "height": 74
        },
        "id": "3ruGrkt6pt1K",
        "outputId": "ffe55038-53cd-4a43-8ca2-7fa8ea3ea6c0"
      },
      "execution_count": 19,
      "outputs": [
        {
          "output_type": "execute_result",
          "data": {
            "text/plain": [
              "LinearRegression()"
            ],
            "text/html": [
              "<style>#sk-container-id-1 {color: black;background-color: white;}#sk-container-id-1 pre{padding: 0;}#sk-container-id-1 div.sk-toggleable {background-color: white;}#sk-container-id-1 label.sk-toggleable__label {cursor: pointer;display: block;width: 100%;margin-bottom: 0;padding: 0.3em;box-sizing: border-box;text-align: center;}#sk-container-id-1 label.sk-toggleable__label-arrow:before {content: \"▸\";float: left;margin-right: 0.25em;color: #696969;}#sk-container-id-1 label.sk-toggleable__label-arrow:hover:before {color: black;}#sk-container-id-1 div.sk-estimator:hover label.sk-toggleable__label-arrow:before {color: black;}#sk-container-id-1 div.sk-toggleable__content {max-height: 0;max-width: 0;overflow: hidden;text-align: left;background-color: #f0f8ff;}#sk-container-id-1 div.sk-toggleable__content pre {margin: 0.2em;color: black;border-radius: 0.25em;background-color: #f0f8ff;}#sk-container-id-1 input.sk-toggleable__control:checked~div.sk-toggleable__content {max-height: 200px;max-width: 100%;overflow: auto;}#sk-container-id-1 input.sk-toggleable__control:checked~label.sk-toggleable__label-arrow:before {content: \"▾\";}#sk-container-id-1 div.sk-estimator input.sk-toggleable__control:checked~label.sk-toggleable__label {background-color: #d4ebff;}#sk-container-id-1 div.sk-label input.sk-toggleable__control:checked~label.sk-toggleable__label {background-color: #d4ebff;}#sk-container-id-1 input.sk-hidden--visually {border: 0;clip: rect(1px 1px 1px 1px);clip: rect(1px, 1px, 1px, 1px);height: 1px;margin: -1px;overflow: hidden;padding: 0;position: absolute;width: 1px;}#sk-container-id-1 div.sk-estimator {font-family: monospace;background-color: #f0f8ff;border: 1px dotted black;border-radius: 0.25em;box-sizing: border-box;margin-bottom: 0.5em;}#sk-container-id-1 div.sk-estimator:hover {background-color: #d4ebff;}#sk-container-id-1 div.sk-parallel-item::after {content: \"\";width: 100%;border-bottom: 1px solid gray;flex-grow: 1;}#sk-container-id-1 div.sk-label:hover label.sk-toggleable__label {background-color: #d4ebff;}#sk-container-id-1 div.sk-serial::before {content: \"\";position: absolute;border-left: 1px solid gray;box-sizing: border-box;top: 0;bottom: 0;left: 50%;z-index: 0;}#sk-container-id-1 div.sk-serial {display: flex;flex-direction: column;align-items: center;background-color: white;padding-right: 0.2em;padding-left: 0.2em;position: relative;}#sk-container-id-1 div.sk-item {position: relative;z-index: 1;}#sk-container-id-1 div.sk-parallel {display: flex;align-items: stretch;justify-content: center;background-color: white;position: relative;}#sk-container-id-1 div.sk-item::before, #sk-container-id-1 div.sk-parallel-item::before {content: \"\";position: absolute;border-left: 1px solid gray;box-sizing: border-box;top: 0;bottom: 0;left: 50%;z-index: -1;}#sk-container-id-1 div.sk-parallel-item {display: flex;flex-direction: column;z-index: 1;position: relative;background-color: white;}#sk-container-id-1 div.sk-parallel-item:first-child::after {align-self: flex-end;width: 50%;}#sk-container-id-1 div.sk-parallel-item:last-child::after {align-self: flex-start;width: 50%;}#sk-container-id-1 div.sk-parallel-item:only-child::after {width: 0;}#sk-container-id-1 div.sk-dashed-wrapped {border: 1px dashed gray;margin: 0 0.4em 0.5em 0.4em;box-sizing: border-box;padding-bottom: 0.4em;background-color: white;}#sk-container-id-1 div.sk-label label {font-family: monospace;font-weight: bold;display: inline-block;line-height: 1.2em;}#sk-container-id-1 div.sk-label-container {text-align: center;}#sk-container-id-1 div.sk-container {/* jupyter's `normalize.less` sets `[hidden] { display: none; }` but bootstrap.min.css set `[hidden] { display: none !important; }` so we also need the `!important` here to be able to override the default hidden behavior on the sphinx rendered scikit-learn.org. See: https://github.com/scikit-learn/scikit-learn/issues/21755 */display: inline-block !important;position: relative;}#sk-container-id-1 div.sk-text-repr-fallback {display: none;}</style><div id=\"sk-container-id-1\" class=\"sk-top-container\"><div class=\"sk-text-repr-fallback\"><pre>LinearRegression()</pre><b>In a Jupyter environment, please rerun this cell to show the HTML representation or trust the notebook. <br />On GitHub, the HTML representation is unable to render, please try loading this page with nbviewer.org.</b></div><div class=\"sk-container\" hidden><div class=\"sk-item\"><div class=\"sk-estimator sk-toggleable\"><input class=\"sk-toggleable__control sk-hidden--visually\" id=\"sk-estimator-id-1\" type=\"checkbox\" checked><label for=\"sk-estimator-id-1\" class=\"sk-toggleable__label sk-toggleable__label-arrow\">LinearRegression</label><div class=\"sk-toggleable__content\"><pre>LinearRegression()</pre></div></div></div></div></div>"
            ]
          },
          "metadata": {},
          "execution_count": 19
        }
      ]
    },
    {
      "cell_type": "code",
      "source": [
        "# Plot the data and the line of best fit\n",
        "plt.scatter(XX,YY)\n",
        "plt.plot(XX, model.predict(XX),color='red')\n",
        "plt.show()"
      ],
      "metadata": {
        "colab": {
          "base_uri": "https://localhost:8080/",
          "height": 265
        },
        "id": "g53y4YRHpafX",
        "outputId": "7d1a409a-86ab-4afe-facc-c7a503ebc2a7"
      },
      "execution_count": 23,
      "outputs": [
        {
          "output_type": "display_data",
          "data": {
            "text/plain": [
              "<Figure size 432x288 with 1 Axes>"
            ],
            "image/png": "[encoded data removed]"
          },
          "metadata": {
            "needs_background": "light"
          }
        }
      ]
    },
    {
      "cell_type": "code",
      "source": [
        "from google.colab import files\n",
        "uploaded = files.upload()"
      ],
      "metadata": {
        "colab": {
          "base_uri": "https://localhost:8080/",
          "height": 73
        },
        "id": "l7ySu4CmuJHy",
        "outputId": "05d241c7-f093-4eb4-a553-0d8571678101"
      },
      "execution_count": 24,
      "outputs": [
        {
          "output_type": "display_data",
          "data": {
            "text/plain": [
              "<IPython.core.display.HTML object>"
            ],
            "text/html": [
              "\n",
              "     <input type=\"file\" id=\"files-6103fe70-a0ba-4a72-97dc-b95a3284a635\" name=\"files[]\" multiple disabled\n",
              "        style=\"border:none\" />\n",
              "     <output id=\"result-6103fe70-a0ba-4a72-97dc-b95a3284a635\">\n",
              "      Upload widget is only available when the cell has been executed in the\n",
              "      current browser session. Please rerun this cell to enable.\n",
              "      </output>\n",
              "      <script>// Copyright 2017 Google LLC\n",
              "//\n",
              "// Licensed under the Apache License, Version 2.0 (the \"License\");\n",
              "// you may not use this file except in compliance with the License.\n",
              "// You may obtain a copy of the License at\n",
              "//\n",
              "//      http://www.apache.org/licenses/LICENSE-2.0\n",
              "//\n",
              "// Unless required by applicable law or agreed to in writing, software\n",
              "// distributed under the License is distributed on an \"AS IS\" BASIS,\n",
              "// WITHOUT WARRANTIES OR CONDITIONS OF ANY KIND, either express or implied.\n",
              "// See the License for the specific language governing permissions and\n",
              "// limitations under the License.\n",
              "\n",
              "/**\n",
              " * @fileoverview Helpers for google.colab Python module.\n",
              " */\n",
              "(function(scope) {\n",
              "function span(text, styleAttributes = {}) {\n",
              "  const element = document.createElement('span');\n",
              "  element.textContent = text;\n",
              "  for (const key of Object.keys(styleAttributes)) {\n",
              "    element.style[key] = styleAttributes[key];\n",
              "  }\n",
              "  return element;\n",
              "}\n",
              "\n",
              "// Max number of bytes which will be uploaded at a time.\n",
              "const MAX_PAYLOAD_SIZE = 100 * 1024;\n",
              "\n",
              "function _uploadFiles(inputId, outputId) {\n",
              "  const steps = uploadFilesStep(inputId, outputId);\n",
              "  const outputElement = document.getElementById(outputId);\n",
              "  // Cache steps on the outputElement to make it available for the next call\n",
              "  // to uploadFilesContinue from Python.\n",
              "  outputElement.steps = steps;\n",
              "\n",
              "  return _uploadFilesContinue(outputId);\n",
              "}\n",
              "\n",
              "// This is roughly an async generator (not supported in the browser yet),\n",
              "// where there are multiple asynchronous steps and the Python side is going\n",
              "// to poll for completion of each step.\n",
              "// This uses a Promise to block the python side on completion of each step,\n",
              "// then passes the result of the previous step as the input to the next step.\n",
              "function _uploadFilesContinue(outputId) {\n",
              "  const outputElement = document.getElementById(outputId);\n",
              "  const steps = outputElement.steps;\n",
              "\n",
              "  const next = steps.next(outputElement.lastPromiseValue);\n",
              "  return Promise.resolve(next.value.promise).then((value) => {\n",
              "    // Cache the last promise value to make it available to the next\n",
              "    // step of the generator.\n",
              "    outputElement.lastPromiseValue = value;\n",
              "    return next.value.response;\n",
              "  });\n",
              "}\n",
              "\n",
              "/**\n",
              " * Generator function which is called between each async step of the upload\n",
              " * process.\n",
              " * @param {string} inputId Element ID of the input file picker element.\n",
              " * @param {string} outputId Element ID of the output display.\n",
              " * @return {!Iterable<!Object>} Iterable of next steps.\n",
              " */\n",
              "function* uploadFilesStep(inputId, outputId) {\n",
              "  const inputElement = document.getElementById(inputId);\n",
              "  inputElement.disabled = false;\n",
              "\n",
              "  const outputElement = document.getElementById(outputId);\n",
              "  outputElement.innerHTML = '';\n",
              "\n",
              "  const pickedPromise = new Promise((resolve) => {\n",
              "    inputElement.addEventListener('change', (e) => {\n",
              "      resolve(e.target.files);\n",
              "    });\n",
              "  });\n",
              "\n",
              "  const cancel = document.createElement('button');\n",
              "  inputElement.parentElement.appendChild(cancel);\n",
              "  cancel.textContent = 'Cancel upload';\n",
              "  const cancelPromise = new Promise((resolve) => {\n",
              "    cancel.onclick = () => {\n",
              "      resolve(null);\n",
              "    };\n",
              "  });\n",
              "\n",
              "  // Wait for the user to pick the files.\n",
              "  const files = yield {\n",
              "    promise: Promise.race([pickedPromise, cancelPromise]),\n",
              "    response: {\n",
              "      action: 'starting',\n",
              "    }\n",
              "  };\n",
              "\n",
              "  cancel.remove();\n",
              "\n",
              "  // Disable the input element since further picks are not allowed.\n",
              "  inputElement.disabled = true;\n",
              "\n",
              "  if (!files) {\n",
              "    return {\n",
              "      response: {\n",
              "        action: 'complete',\n",
              "      }\n",
              "    };\n",
              "  }\n",
              "\n",
              "  for (const file of files) {\n",
              "    const li = document.createElement('li');\n",
              "    li.append(span(file.name, {fontWeight: 'bold'}));\n",
              "    li.append(span(\n",
              "        `(${file.type || 'n/a'}) - ${file.size} bytes, ` +\n",
              "        `last modified: ${\n",
              "            file.lastModifiedDate ? file.lastModifiedDate.toLocaleDateString() :\n",
              "                                    'n/a'} - `));\n",
              "    const percent = span('0% done');\n",
              "    li.appendChild(percent);\n",
              "\n",
              "    outputElement.appendChild(li);\n",
              "\n",
              "    const fileDataPromise = new Promise((resolve) => {\n",
              "      const reader = new FileReader();\n",
              "      reader.onload = (e) => {\n",
              "        resolve(e.target.result);\n",
              "      };\n",
              "      reader.readAsArrayBuffer(file);\n",
              "    });\n",
              "    // Wait for the data to be ready.\n",
              "    let fileData = yield {\n",
              "      promise: fileDataPromise,\n",
              "      response: {\n",
              "        action: 'continue',\n",
              "      }\n",
              "    };\n",
              "\n",
              "    // Use a chunked sending to avoid message size limits. See b/62115660.\n",
              "    let position = 0;\n",
              "    do {\n",
              "      const length = Math.min(fileData.byteLength - position, MAX_PAYLOAD_SIZE);\n",
              "      const chunk = new Uint8Array(fileData, position, length);\n",
              "      position += length;\n",
              "\n",
              "      const base64 = btoa(String.fromCharCode.apply(null, chunk));\n",
              "      yield {\n",
              "        response: {\n",
              "          action: 'append',\n",
              "          file: file.name,\n",
              "          data: base64,\n",
              "        },\n",
              "      };\n",
              "\n",
              "      let percentDone = fileData.byteLength === 0 ?\n",
              "          100 :\n",
              "          Math.round((position / fileData.byteLength) * 100);\n",
              "      percent.textContent = `${percentDone}% done`;\n",
              "\n",
              "    } while (position < fileData.byteLength);\n",
              "  }\n",
              "\n",
              "  // All done.\n",
              "  yield {\n",
              "    response: {\n",
              "      action: 'complete',\n",
              "    }\n",
              "  };\n",
              "}\n",
              "\n",
              "scope.google = scope.google || {};\n",
              "scope.google.colab = scope.google.colab || {};\n",
              "scope.google.colab._files = {\n",
              "  _uploadFiles,\n",
              "  _uploadFilesContinue,\n",
              "};\n",
              "})(self);\n",
              "</script> "
            ]
          },
          "metadata": {}
        },
        {
          "output_type": "stream",
          "name": "stdout",
          "text": [
            "Saving train.csv to train.csv\n"
          ]
        }
      ]
    },
    {
      "cell_type": "code",
      "source": [
        "from google.colab import files\n",
        "uploaded = files.upload()"
      ],
      "metadata": {
        "colab": {
          "base_uri": "https://localhost:8080/",
          "height": 73
        },
        "id": "q8EXHft6vZvu",
        "outputId": "f622bf2e-0a49-4330-f234-382fe58f71bc"
      },
      "execution_count": 29,
      "outputs": [
        {
          "output_type": "display_data",
          "data": {
            "text/plain": [
              "<IPython.core.display.HTML object>"
            ],
            "text/html": [
              "\n",
              "     <input type=\"file\" id=\"files-05a33d9b-08e9-4f8b-9f65-96de8e262c39\" name=\"files[]\" multiple disabled\n",
              "        style=\"border:none\" />\n",
              "     <output id=\"result-05a33d9b-08e9-4f8b-9f65-96de8e262c39\">\n",
              "      Upload widget is only available when the cell has been executed in the\n",
              "      current browser session. Please rerun this cell to enable.\n",
              "      </output>\n",
              "      <script>// Copyright 2017 Google LLC\n",
              "//\n",
              "// Licensed under the Apache License, Version 2.0 (the \"License\");\n",
              "// you may not use this file except in compliance with the License.\n",
              "// You may obtain a copy of the License at\n",
              "//\n",
              "//      http://www.apache.org/licenses/LICENSE-2.0\n",
              "//\n",
              "// Unless required by applicable law or agreed to in writing, software\n",
              "// distributed under the License is distributed on an \"AS IS\" BASIS,\n",
              "// WITHOUT WARRANTIES OR CONDITIONS OF ANY KIND, either express or implied.\n",
              "// See the License for the specific language governing permissions and\n",
              "// limitations under the License.\n",
              "\n",
              "/**\n",
              " * @fileoverview Helpers for google.colab Python module.\n",
              " */\n",
              "(function(scope) {\n",
              "function span(text, styleAttributes = {}) {\n",
              "  const element = document.createElement('span');\n",
              "  element.textContent = text;\n",
              "  for (const key of Object.keys(styleAttributes)) {\n",
              "    element.style[key] = styleAttributes[key];\n",
              "  }\n",
              "  return element;\n",
              "}\n",
              "\n",
              "// Max number of bytes which will be uploaded at a time.\n",
              "const MAX_PAYLOAD_SIZE = 100 * 1024;\n",
              "\n",
              "function _uploadFiles(inputId, outputId) {\n",
              "  const steps = uploadFilesStep(inputId, outputId);\n",
              "  const outputElement = document.getElementById(outputId);\n",
              "  // Cache steps on the outputElement to make it available for the next call\n",
              "  // to uploadFilesContinue from Python.\n",
              "  outputElement.steps = steps;\n",
              "\n",
              "  return _uploadFilesContinue(outputId);\n",
              "}\n",
              "\n",
              "// This is roughly an async generator (not supported in the browser yet),\n",
              "// where there are multiple asynchronous steps and the Python side is going\n",
              "// to poll for completion of each step.\n",
              "// This uses a Promise to block the python side on completion of each step,\n",
              "// then passes the result of the previous step as the input to the next step.\n",
              "function _uploadFilesContinue(outputId) {\n",
              "  const outputElement = document.getElementById(outputId);\n",
              "  const steps = outputElement.steps;\n",
              "\n",
              "  const next = steps.next(outputElement.lastPromiseValue);\n",
              "  return Promise.resolve(next.value.promise).then((value) => {\n",
              "    // Cache the last promise value to make it available to the next\n",
              "    // step of the generator.\n",
              "    outputElement.lastPromiseValue = value;\n",
              "    return next.value.response;\n",
              "  });\n",
              "}\n",
              "\n",
              "/**\n",
              " * Generator function which is called between each async step of the upload\n",
              " * process.\n",
              " * @param {string} inputId Element ID of the input file picker element.\n",
              " * @param {string} outputId Element ID of the output display.\n",
              " * @return {!Iterable<!Object>} Iterable of next steps.\n",
              " */\n",
              "function* uploadFilesStep(inputId, outputId) {\n",
              "  const inputElement = document.getElementById(inputId);\n",
              "  inputElement.disabled = false;\n",
              "\n",
              "  const outputElement = document.getElementById(outputId);\n",
              "  outputElement.innerHTML = '';\n",
              "\n",
              "  const pickedPromise = new Promise((resolve) => {\n",
              "    inputElement.addEventListener('change', (e) => {\n",
              "      resolve(e.target.files);\n",
              "    });\n",
              "  });\n",
              "\n",
              "  const cancel = document.createElement('button');\n",
              "  inputElement.parentElement.appendChild(cancel);\n",
              "  cancel.textContent = 'Cancel upload';\n",
              "  const cancelPromise = new Promise((resolve) => {\n",
              "    cancel.onclick = () => {\n",
              "      resolve(null);\n",
              "    };\n",
              "  });\n",
              "\n",
              "  // Wait for the user to pick the files.\n",
              "  const files = yield {\n",
              "    promise: Promise.race([pickedPromise, cancelPromise]),\n",
              "    response: {\n",
              "      action: 'starting',\n",
              "    }\n",
              "  };\n",
              "\n",
              "  cancel.remove();\n",
              "\n",
              "  // Disable the input element since further picks are not allowed.\n",
              "  inputElement.disabled = true;\n",
              "\n",
              "  if (!files) {\n",
              "    return {\n",
              "      response: {\n",
              "        action: 'complete',\n",
              "      }\n",
              "    };\n",
              "  }\n",
              "\n",
              "  for (const file of files) {\n",
              "    const li = document.createElement('li');\n",
              "    li.append(span(file.name, {fontWeight: 'bold'}));\n",
              "    li.append(span(\n",
              "        `(${file.type || 'n/a'}) - ${file.size} bytes, ` +\n",
              "        `last modified: ${\n",
              "            file.lastModifiedDate ? file.lastModifiedDate.toLocaleDateString() :\n",
              "                                    'n/a'} - `));\n",
              "    const percent = span('0% done');\n",
              "    li.appendChild(percent);\n",
              "\n",
              "    outputElement.appendChild(li);\n",
              "\n",
              "    const fileDataPromise = new Promise((resolve) => {\n",
              "      const reader = new FileReader();\n",
              "      reader.onload = (e) => {\n",
              "        resolve(e.target.result);\n",
              "      };\n",
              "      reader.readAsArrayBuffer(file);\n",
              "    });\n",
              "    // Wait for the data to be ready.\n",
              "    let fileData = yield {\n",
              "      promise: fileDataPromise,\n",
              "      response: {\n",
              "        action: 'continue',\n",
              "      }\n",
              "    };\n",
              "\n",
              "    // Use a chunked sending to avoid message size limits. See b/62115660.\n",
              "    let position = 0;\n",
              "    do {\n",
              "      const length = Math.min(fileData.byteLength - position, MAX_PAYLOAD_SIZE);\n",
              "      const chunk = new Uint8Array(fileData, position, length);\n",
              "      position += length;\n",
              "\n",
              "      const base64 = btoa(String.fromCharCode.apply(null, chunk));\n",
              "      yield {\n",
              "        response: {\n",
              "          action: 'append',\n",
              "          file: file.name,\n",
              "          data: base64,\n",
              "        },\n",
              "      };\n",
              "\n",
              "      let percentDone = fileData.byteLength === 0 ?\n",
              "          100 :\n",
              "          Math.round((position / fileData.byteLength) * 100);\n",
              "      percent.textContent = `${percentDone}% done`;\n",
              "\n",
              "    } while (position < fileData.byteLength);\n",
              "  }\n",
              "\n",
              "  // All done.\n",
              "  yield {\n",
              "    response: {\n",
              "      action: 'complete',\n",
              "    }\n",
              "  };\n",
              "}\n",
              "\n",
              "scope.google = scope.google || {};\n",
              "scope.google.colab = scope.google.colab || {};\n",
              "scope.google.colab._files = {\n",
              "  _uploadFiles,\n",
              "  _uploadFilesContinue,\n",
              "};\n",
              "})(self);\n",
              "</script> "
            ]
          },
          "metadata": {}
        },
        {
          "output_type": "stream",
          "name": "stdout",
          "text": [
            "Saving test.csv to test.csv\n"
          ]
        }
      ]
    },
    {
      "cell_type": "markdown",
      "source": [],
      "metadata": {
        "id": "Uy6zMtIQugDe"
      }
    },
    {
      "cell_type": "code",
      "source": [
        "import numpy as np\n",
        "import pandas as pd\n",
        "import matplotlib.pyplot as plt\n",
        "\n",
        "# Load the data\n",
        "train_data = pd.read_csv(\"/content/train.csv\")\n",
        "\n",
        "# Extract the x and y values\n",
        "x = train_data['GrLivArea'].values.reshape(-1, 1)\n",
        "y = train_data['SalePrice'].values\n",
        "\n",
        "# Calculate the mean of x and y\n",
        "x_mean = np.mean(x)\n",
        "y_mean = np.mean(y)\n",
        "\n",
        "# Calculate the slope and y-intercept of the line of best fit\n",
        "numerator = np.sum((x - x_mean) * (y - y_mean))\n",
        "denominator = np.sum((x - x_mean)**2)\n",
        "m = numerator / denominator\n",
        "b = y_mean - m * x_mean\n",
        "\n",
        "# Plot the data and the line of best fit\n",
        "plt.scatter(x, y)\n",
        "plt.plot(x, m * x + b)\n",
        "plt.show()"
      ],
      "metadata": {
        "colab": {
          "base_uri": "https://localhost:8080/",
          "height": 265
        },
        "id": "s6AQpMexp5ZG",
        "outputId": "f48735cf-c9c5-484b-df8f-38029f0cfecc"
      },
      "execution_count": 28,
      "outputs": [
        {
          "output_type": "display_data",
          "data": {
            "text/plain": [
              "<Figure size 432x288 with 1 Axes>"
            ],
            "image/png": "[encoded data removed]"
          },
          "metadata": {
            "needs_background": "light"
          }
        }
      ]
    },
    {
      "cell_type": "markdown",
      "source": [
        "<h2>Logistic Regression"
      ],
      "metadata": {
        "id": "yI0qrxPpvGy4"
      }
    },
    {
      "cell_type": "code",
      "source": [
        "import pandas as pd\n",
        "import numpy as np\n",
        "import matplotlib.pyplot as plt\n",
        "import seaborn as sns\n",
        "\n",
        "from sklearn.linear_model import LogisticRegression\n",
        "from sklearn.model_selection import train_test_split\n",
        "from sklearn.metrics import confusion_matrix"
      ],
      "metadata": {
        "id": "6ftl4C0gvDs3"
      },
      "execution_count": 52,
      "outputs": []
    },
    {
      "cell_type": "code",
      "source": [
        "test_df=pd.read_csv('/content/test.csv')\n",
        "train_df=pd.read_csv('/content/train.csv')"
      ],
      "metadata": {
        "id": "a6wnydXuvTvV"
      },
      "execution_count": 53,
      "outputs": []
    },
    {
      "cell_type": "code",
      "source": [
        "# dropping less important columns\n",
        "cols=['MSZoning','Street',\n",
        "       'Alley', 'LotShape', 'LandContour', 'Utilities', 'LotConfig',\n",
        "       'LandSlope', 'Neighborhood', 'Condition1', 'Condition2', 'BldgType',\n",
        "       'HouseStyle','RoofStyle', 'RoofMatl', 'Exterior1st', 'Exterior2nd', 'MasVnrType',\n",
        "       'MasVnrArea','ExterQual', 'ExterCond', 'Foundation', 'BsmtQual',\n",
        "       'BsmtCond', 'BsmtExposure', 'BsmtFinType1','BsmtFinType2','Heating',\n",
        "       'HeatingQC', 'CentralAir', 'Electrical','KitchenQual', 'Functional','FireplaceQu','GarageType',\n",
        "     'GarageFinish','GarageQual','GarageCond','PavedDrive','PoolQC','Fence','MiscFeature','SaleType','SaleCondition']\n",
        "\n",
        "train_df=train_df.drop(cols, axis=1)\n"
      ],
      "metadata": {
        "id": "JrF6gxl4voQM"
      },
      "execution_count": 54,
      "outputs": []
    },
    {
      "cell_type": "code",
      "source": [
        "train_df.LotFrontage.fillna(train_df.LotFrontage.mean(), inplace=True)"
      ],
      "metadata": {
        "id": "Cc6QaBs_wow0"
      },
      "execution_count": 55,
      "outputs": []
    },
    {
      "cell_type": "code",
      "source": [
        "train_df.fillna(train_df.mean(), inplace=True)"
      ],
      "metadata": {
        "id": "Yv6jmdJ3wsEY"
      },
      "execution_count": 59,
      "outputs": []
    },
    {
      "cell_type": "code",
      "source": [
        "train_df.LotFrontage.fillna(train_df.LotFrontage.mean(), inplace=True)"
      ],
      "metadata": {
        "id": "LXL0ivCgvzxt"
      },
      "execution_count": 60,
      "outputs": []
    },
    {
      "cell_type": "code",
      "source": [
        "train_df.LotFrontage.fillna(train_df.LotFrontage.mean(), inplace=True)"
      ],
      "metadata": {
        "id": "oYFf3Pvbv5X9"
      },
      "execution_count": 61,
      "outputs": []
    },
    {
      "cell_type": "code",
      "source": [
        "x=train_df.drop('SalePrice', 1)\n",
        "y=train_df['SalePrice']"
      ],
      "metadata": {
        "colab": {
          "base_uri": "https://localhost:8080/"
        },
        "id": "5NpbPEUNv7BV",
        "outputId": "caf2b9c3-6f11-40fc-e4d2-2b775a424d8b"
      },
      "execution_count": 62,
      "outputs": [
        {
          "output_type": "stream",
          "name": "stderr",
          "text": [
            "<ipython-input-62-e49190ff8a95>:1: FutureWarning: In a future version of pandas all arguments of DataFrame.drop except for the argument 'labels' will be keyword-only.\n",
            "  x=train_df.drop('SalePrice', 1)\n"
          ]
        }
      ]
    },
    {
      "cell_type": "code",
      "source": [
        "X_train, x_test, y_train, y_test=train_test_split(x, y, test_size=0.3, random_state=10)"
      ],
      "metadata": {
        "id": "oAGrvFICv9EO"
      },
      "execution_count": 63,
      "outputs": []
    },
    {
      "cell_type": "code",
      "source": [
        "model=LogisticRegression()"
      ],
      "metadata": {
        "id": "sB3pqhYsv-6V"
      },
      "execution_count": 64,
      "outputs": []
    },
    {
      "cell_type": "code",
      "source": [
        "model.fit(X_train, y_train)"
      ],
      "metadata": {
        "colab": {
          "base_uri": "https://localhost:8080/",
          "height": 213
        },
        "id": "jgbHBysgwCFd",
        "outputId": "a6fa5936-2be7-41cf-f2ea-75f683e30b65"
      },
      "execution_count": 66,
      "outputs": [
        {
          "output_type": "stream",
          "name": "stderr",
          "text": [
            "/usr/local/lib/python3.9/dist-packages/sklearn/linear_model/_logistic.py:458: ConvergenceWarning: lbfgs failed to converge (status=1):\n",
            "STOP: TOTAL NO. of ITERATIONS REACHED LIMIT.\n",
            "\n",
            "Increase the number of iterations (max_iter) or scale the data as shown in:\n",
            "    https://scikit-learn.org/stable/modules/preprocessing.html\n",
            "Please also refer to the documentation for alternative solver options:\n",
            "    https://scikit-learn.org/stable/modules/linear_model.html#logistic-regression\n",
            "  n_iter_i = _check_optimize_result(\n"
          ]
        },
        {
          "output_type": "execute_result",
          "data": {
            "text/plain": [
              "LogisticRegression()"
            ],
            "text/html": [
              "<style>#sk-container-id-2 {color: black;background-color: white;}#sk-container-id-2 pre{padding: 0;}#sk-container-id-2 div.sk-toggleable {background-color: white;}#sk-container-id-2 label.sk-toggleable__label {cursor: pointer;display: block;width: 100%;margin-bottom: 0;padding: 0.3em;box-sizing: border-box;text-align: center;}#sk-container-id-2 label.sk-toggleable__label-arrow:before {content: \"▸\";float: left;margin-right: 0.25em;color: #696969;}#sk-container-id-2 label.sk-toggleable__label-arrow:hover:before {color: black;}#sk-container-id-2 div.sk-estimator:hover label.sk-toggleable__label-arrow:before {color: black;}#sk-container-id-2 div.sk-toggleable__content {max-height: 0;max-width: 0;overflow: hidden;text-align: left;background-color: #f0f8ff;}#sk-container-id-2 div.sk-toggleable__content pre {margin: 0.2em;color: black;border-radius: 0.25em;background-color: #f0f8ff;}#sk-container-id-2 input.sk-toggleable__control:checked~div.sk-toggleable__content {max-height: 200px;max-width: 100%;overflow: auto;}#sk-container-id-2 input.sk-toggleable__control:checked~label.sk-toggleable__label-arrow:before {content: \"▾\";}#sk-container-id-2 div.sk-estimator input.sk-toggleable__control:checked~label.sk-toggleable__label {background-color: #d4ebff;}#sk-container-id-2 div.sk-label input.sk-toggleable__control:checked~label.sk-toggleable__label {background-color: #d4ebff;}#sk-container-id-2 input.sk-hidden--visually {border: 0;clip: rect(1px 1px 1px 1px);clip: rect(1px, 1px, 1px, 1px);height: 1px;margin: -1px;overflow: hidden;padding: 0;position: absolute;width: 1px;}#sk-container-id-2 div.sk-estimator {font-family: monospace;background-color: #f0f8ff;border: 1px dotted black;border-radius: 0.25em;box-sizing: border-box;margin-bottom: 0.5em;}#sk-container-id-2 div.sk-estimator:hover {background-color: #d4ebff;}#sk-container-id-2 div.sk-parallel-item::after {content: \"\";width: 100%;border-bottom: 1px solid gray;flex-grow: 1;}#sk-container-id-2 div.sk-label:hover label.sk-toggleable__label {background-color: #d4ebff;}#sk-container-id-2 div.sk-serial::before {content: \"\";position: absolute;border-left: 1px solid gray;box-sizing: border-box;top: 0;bottom: 0;left: 50%;z-index: 0;}#sk-container-id-2 div.sk-serial {display: flex;flex-direction: column;align-items: center;background-color: white;padding-right: 0.2em;padding-left: 0.2em;position: relative;}#sk-container-id-2 div.sk-item {position: relative;z-index: 1;}#sk-container-id-2 div.sk-parallel {display: flex;align-items: stretch;justify-content: center;background-color: white;position: relative;}#sk-container-id-2 div.sk-item::before, #sk-container-id-2 div.sk-parallel-item::before {content: \"\";position: absolute;border-left: 1px solid gray;box-sizing: border-box;top: 0;bottom: 0;left: 50%;z-index: -1;}#sk-container-id-2 div.sk-parallel-item {display: flex;flex-direction: column;z-index: 1;position: relative;background-color: white;}#sk-container-id-2 div.sk-parallel-item:first-child::after {align-self: flex-end;width: 50%;}#sk-container-id-2 div.sk-parallel-item:last-child::after {align-self: flex-start;width: 50%;}#sk-container-id-2 div.sk-parallel-item:only-child::after {width: 0;}#sk-container-id-2 div.sk-dashed-wrapped {border: 1px dashed gray;margin: 0 0.4em 0.5em 0.4em;box-sizing: border-box;padding-bottom: 0.4em;background-color: white;}#sk-container-id-2 div.sk-label label {font-family: monospace;font-weight: bold;display: inline-block;line-height: 1.2em;}#sk-container-id-2 div.sk-label-container {text-align: center;}#sk-container-id-2 div.sk-container {/* jupyter's `normalize.less` sets `[hidden] { display: none; }` but bootstrap.min.css set `[hidden] { display: none !important; }` so we also need the `!important` here to be able to override the default hidden behavior on the sphinx rendered scikit-learn.org. See: https://github.com/scikit-learn/scikit-learn/issues/21755 */display: inline-block !important;position: relative;}#sk-container-id-2 div.sk-text-repr-fallback {display: none;}</style><div id=\"sk-container-id-2\" class=\"sk-top-container\"><div class=\"sk-text-repr-fallback\"><pre>LogisticRegression()</pre><b>In a Jupyter environment, please rerun this cell to show the HTML representation or trust the notebook. <br />On GitHub, the HTML representation is unable to render, please try loading this page with nbviewer.org.</b></div><div class=\"sk-container\" hidden><div class=\"sk-item\"><div class=\"sk-estimator sk-toggleable\"><input class=\"sk-toggleable__control sk-hidden--visually\" id=\"sk-estimator-id-2\" type=\"checkbox\" checked><label for=\"sk-estimator-id-2\" class=\"sk-toggleable__label sk-toggleable__label-arrow\">LogisticRegression</label><div class=\"sk-toggleable__content\"><pre>LogisticRegression()</pre></div></div></div></div></div>"
            ]
          },
          "metadata": {},
          "execution_count": 66
        }
      ]
    },
    {
      "cell_type": "code",
      "source": [
        "predict=model.predict(x_test)\n",
        "predict[1:6]"
      ],
      "metadata": {
        "colab": {
          "base_uri": "https://localhost:8080/"
        },
        "id": "FU39N4A2xxHc",
        "outputId": "534988e8-d994-4b70-a9b4-dfb39bfc163d"
      },
      "execution_count": 67,
      "outputs": [
        {
          "output_type": "execute_result",
          "data": {
            "text/plain": [
              "array([192000, 143000, 140000, 250000, 185000])"
            ]
          },
          "metadata": {},
          "execution_count": 67
        }
      ]
    },
    {
      "cell_type": "code",
      "source": [
        "from sklearn.metrics import classification_report\n",
        "cr = classification_report(y_test,predict)\n",
        "print(cr)"
      ],
      "metadata": {
        "colab": {
          "base_uri": "https://localhost:8080/"
        },
        "id": "Psp-7vxN02Sf",
        "outputId": "0a2dafd2-ea6d-4723-91c9-bd8ed86b92b5"
      },
      "execution_count": 77,
      "outputs": [
        {
          "output_type": "stream",
          "name": "stdout",
          "text": [
            "              precision    recall  f1-score   support\n",
            "\n",
            "       34900       0.00      0.00      0.00         1\n",
            "       35311       0.00      0.00      0.00         1\n",
            "       37900       0.00      0.00      0.00         1\n",
            "       39300       0.00      0.00      0.00         1\n",
            "       52500       0.00      0.00      0.00         1\n",
            "       60000       0.00      0.00      0.00         2\n",
            "       61000       0.00      0.00      0.00         1\n",
            "       68500       0.00      0.00      0.00         1\n",
            "       76000       0.00      0.00      0.00         1\n",
            "       78000       0.00      0.00      0.00         1\n",
            "       79900       0.00      0.00      0.00         1\n",
            "       80000       0.00      0.00      0.00         2\n",
            "       81000       0.00      0.00      0.00         1\n",
            "       82000       0.00      0.00      0.00         3\n",
            "       82500       0.00      0.00      0.00         1\n",
            "       84500       0.00      0.00      0.00         3\n",
            "       85000       0.00      0.00      0.00         1\n",
            "       87000       0.00      0.00      0.00         2\n",
            "       88000       0.00      0.00      0.00         0\n",
            "       89500       0.00      0.00      0.00         1\n",
            "       91000       0.00      0.00      0.00         1\n",
            "       91300       0.00      0.00      0.00         1\n",
            "       91500       0.00      0.00      0.00         1\n",
            "       96500       0.00      0.00      0.00         1\n",
            "       97000       0.00      0.00      0.00         1\n",
            "      100000       0.00      0.00      0.00         4\n",
            "      101800       0.00      0.00      0.00         1\n",
            "      102000       0.00      0.00      0.00         2\n",
            "      102776       0.00      0.00      0.00         1\n",
            "      104900       0.00      0.00      0.00         1\n",
            "      105000       0.00      0.00      0.00         3\n",
            "      105500       0.00      0.00      0.00         1\n",
            "      106000       0.00      0.00      0.00         2\n",
            "      106500       0.00      0.00      0.00         2\n",
            "      107000       0.00      0.00      0.00         1\n",
            "      107400       0.00      0.00      0.00         1\n",
            "      108000       0.00      0.00      0.00         2\n",
            "      108480       0.00      0.00      0.00         1\n",
            "      109008       0.00      0.00      0.00         1\n",
            "      110000       0.00      0.00      0.00         4\n",
            "      111250       0.00      0.00      0.00         1\n",
            "      112000       0.00      0.00      0.00         5\n",
            "      112500       0.00      0.00      0.00         1\n",
            "      113000       0.00      0.00      0.00         2\n",
            "      114500       0.00      0.00      0.00         1\n",
            "      114504       0.00      0.00      0.00         1\n",
            "      115000       0.00      0.00      0.00         4\n",
            "      116000       0.00      0.00      0.00         1\n",
            "      116050       0.00      0.00      0.00         1\n",
            "      116900       0.00      0.00      0.00         1\n",
            "      117000       0.00      0.00      0.00         2\n",
            "      118000       0.00      0.00      0.00         0\n",
            "      118500       0.00      0.00      0.00         1\n",
            "      118858       0.00      0.00      0.00         1\n",
            "      118964       0.00      0.00      0.00         1\n",
            "      119000       0.00      0.00      0.00         1\n",
            "      119500       0.00      0.00      0.00         1\n",
            "      119750       0.00      0.00      0.00         1\n",
            "      120000       0.00      0.00      0.00         1\n",
            "      120500       0.00      0.00      0.00         1\n",
            "      122500       0.00      0.00      0.00         1\n",
            "      124000       0.00      0.00      0.00         1\n",
            "      124500       0.00      0.00      0.00         2\n",
            "      124900       0.00      0.00      0.00         1\n",
            "      125000       0.00      0.00      0.00         4\n",
            "      125500       0.00      0.00      0.00         0\n",
            "      126000       0.00      0.00      0.00         2\n",
            "      126175       0.00      0.00      0.00         1\n",
            "      127000       0.00      0.00      0.00         3\n",
            "      127500       0.00      0.00      0.00         4\n",
            "      128000       0.00      0.00      0.00         2\n",
            "      128200       0.00      0.00      0.00         1\n",
            "      128500       0.00      0.00      0.00         2\n",
            "      128900       0.00      0.00      0.00         1\n",
            "      129000       0.00      0.00      0.00         4\n",
            "      129500       0.00      0.00      0.00         1\n",
            "      129900       0.00      0.00      0.00         1\n",
            "      130000       0.00      0.00      0.00         4\n",
            "      130250       0.00      0.00      0.00         1\n",
            "      130500       0.00      0.00      0.00         2\n",
            "      131000       0.00      0.00      0.00         2\n",
            "      131500       0.00      0.00      0.00         1\n",
            "      132000       0.00      0.00      0.00         1\n",
            "      132250       0.00      0.00      0.00         1\n",
            "      132500       0.00      0.00      0.00         2\n",
            "      133000       0.00      0.00      0.00         2\n",
            "      134000       0.00      0.00      0.00         1\n",
            "      134500       0.00      0.00      0.00         1\n",
            "      135000       0.03      0.17      0.05         6\n",
            "      136500       0.00      0.00      0.00         1\n",
            "      137000       0.00      0.00      0.00         3\n",
            "      137450       0.00      0.00      0.00         1\n",
            "      137500       0.00      0.00      0.00         2\n",
            "      137900       0.00      0.00      0.00         1\n",
            "      139000       0.00      0.00      0.00         3\n",
            "      139400       0.00      0.00      0.00         1\n",
            "      139500       0.00      0.00      0.00         1\n",
            "      139600       0.00      0.00      0.00         1\n",
            "      140000       0.00      0.00      0.00         7\n",
            "      141000       0.00      0.00      0.00         2\n",
            "      142000       0.00      0.00      0.00         0\n",
            "      142953       0.00      0.00      0.00         1\n",
            "      143000       0.00      0.00      0.00         0\n",
            "      144000       0.00      0.00      0.00         1\n",
            "      144500       0.00      0.00      0.00         1\n",
            "      145000       0.00      0.00      0.00         7\n",
            "      146000       0.00      0.00      0.00         1\n",
            "      146500       0.00      0.00      0.00         1\n",
            "      147000       0.00      0.00      0.00         3\n",
            "      147400       0.00      0.00      0.00         1\n",
            "      147500       0.00      0.00      0.00         1\n",
            "      148000       0.00      0.00      0.00         2\n",
            "      148500       0.00      0.00      0.00         0\n",
            "      149000       0.00      0.00      0.00         3\n",
            "      149350       0.00      0.00      0.00         1\n",
            "      150000       0.00      0.00      0.00         0\n",
            "      150500       0.00      0.00      0.00         1\n",
            "      151000       0.00      0.00      0.00         1\n",
            "      151400       0.00      0.00      0.00         1\n",
            "      152000       0.00      0.00      0.00         1\n",
            "      153000       0.00      0.00      0.00         1\n",
            "      153337       0.00      0.00      0.00         1\n",
            "      153900       0.00      0.00      0.00         1\n",
            "      154000       0.00      0.00      0.00         4\n",
            "      154300       0.00      0.00      0.00         1\n",
            "      155000       0.00      0.00      0.00         5\n",
            "      156000       0.00      0.00      0.00         1\n",
            "      156932       0.00      0.00      0.00         1\n",
            "      157000       0.00      0.00      0.00         3\n",
            "      157500       0.00      0.00      0.00         1\n",
            "      157900       0.00      0.00      0.00         0\n",
            "      158000       0.00      0.00      0.00         1\n",
            "      158500       0.00      0.00      0.00         1\n",
            "      159000       0.00      0.00      0.00         1\n",
            "      159895       0.00      0.00      0.00         1\n",
            "      160000       0.00      0.00      0.00         5\n",
            "      161500       0.00      0.00      0.00         1\n",
            "      162000       0.00      0.00      0.00         3\n",
            "      163000       0.00      0.00      0.00         1\n",
            "      163900       0.00      0.00      0.00         1\n",
            "      164000       0.00      0.00      0.00         2\n",
            "      164500       0.00      0.00      0.00         2\n",
            "      165000       0.00      0.00      0.00         2\n",
            "      165400       0.00      0.00      0.00         1\n",
            "      166000       0.00      0.00      0.00         1\n",
            "      167000       0.00      0.00      0.00         0\n",
            "      167500       0.00      0.00      0.00         2\n",
            "      167900       0.00      0.00      0.00         1\n",
            "      168000       0.00      0.00      0.00         0\n",
            "      169000       0.00      0.00      0.00         1\n",
            "      169500       0.00      0.00      0.00         1\n",
            "      169900       0.00      0.00      0.00         1\n",
            "      170000       0.00      0.00      0.00         3\n",
            "      171750       0.00      0.00      0.00         1\n",
            "      172000       0.00      0.00      0.00         1\n",
            "      172400       0.00      0.00      0.00         1\n",
            "      172500       0.00      0.00      0.00         2\n",
            "      173000       0.00      0.00      0.00         3\n",
            "      174000       0.00      0.00      0.00         3\n",
            "      175000       0.00      0.00      0.00         3\n",
            "      175900       0.00      0.00      0.00         2\n",
            "      176000       0.00      0.00      0.00         4\n",
            "      176485       0.00      0.00      0.00         1\n",
            "      177000       0.00      0.00      0.00         1\n",
            "      178000       0.20      0.50      0.29         2\n",
            "      178400       0.00      0.00      0.00         1\n",
            "      178900       0.00      0.00      0.00         1\n",
            "      179000       0.00      0.00      0.00         2\n",
            "      179200       0.00      0.00      0.00         1\n",
            "      179500       0.00      0.00      0.00         1\n",
            "      179540       0.00      0.00      0.00         1\n",
            "      179665       0.00      0.00      0.00         1\n",
            "      179900       0.00      0.00      0.00         2\n",
            "      180000       0.00      0.00      0.00         2\n",
            "      180500       0.00      0.00      0.00         1\n",
            "      181000       0.00      0.00      0.00         2\n",
            "      181500       0.00      0.00      0.00         1\n",
            "      184000       0.00      0.00      0.00         2\n",
            "      185000       0.00      0.00      0.00         1\n",
            "      186000       0.00      0.00      0.00         1\n",
            "      186500       0.00      0.00      0.00         1\n",
            "      186700       0.00      0.00      0.00         1\n",
            "      187000       0.00      0.00      0.00         1\n",
            "      187500       0.00      0.00      0.00         4\n",
            "      187750       0.00      0.00      0.00         1\n",
            "      188000       0.00      0.00      0.00         1\n",
            "      188700       0.00      0.00      0.00         1\n",
            "      189000       0.00      0.00      0.00         1\n",
            "      189950       0.00      0.00      0.00         1\n",
            "      190000       0.00      0.00      0.00         2\n",
            "      191000       0.00      0.00      0.00         1\n",
            "      192000       0.00      0.00      0.00         1\n",
            "      192140       0.00      0.00      0.00         1\n",
            "      192500       0.00      0.00      0.00         2\n",
            "      193000       0.00      0.00      0.00         1\n",
            "      193500       0.00      0.00      0.00         1\n",
            "      193879       0.00      0.00      0.00         1\n",
            "      194000       0.00      0.00      0.00         1\n",
            "      195000       0.00      0.00      0.00         1\n",
            "      195400       0.00      0.00      0.00         1\n",
            "      196000       0.00      0.00      0.00         0\n",
            "      197000       0.00      0.00      0.00         0\n",
            "      197900       0.00      0.00      0.00         1\n",
            "      199900       0.00      0.00      0.00         1\n",
            "      200000       0.00      0.00      0.00         2\n",
            "      200500       0.00      0.00      0.00         1\n",
            "      200624       0.00      0.00      0.00         1\n",
            "      202500       0.00      0.00      0.00         0\n",
            "      204000       0.00      0.00      0.00         2\n",
            "      205000       0.00      0.00      0.00         1\n",
            "      207000       0.00      0.00      0.00         1\n",
            "      207500       0.00      0.00      0.00         2\n",
            "      208300       0.00      0.00      0.00         1\n",
            "      210000       0.00      0.00      0.00         0\n",
            "      211000       0.00      0.00      0.00         1\n",
            "      212000       0.00      0.00      0.00         2\n",
            "      213000       0.00      0.00      0.00         1\n",
            "      213490       0.00      0.00      0.00         1\n",
            "      214000       0.00      0.00      0.00         2\n",
            "      214900       0.00      0.00      0.00         1\n",
            "      215000       0.00      0.00      0.00         2\n",
            "      216500       0.00      0.00      0.00         1\n",
            "      217000       0.00      0.00      0.00         1\n",
            "      217500       0.00      0.00      0.00         1\n",
            "      218000       0.00      0.00      0.00         1\n",
            "      219500       0.00      0.00      0.00         1\n",
            "      220000       0.00      0.00      0.00         1\n",
            "      221000       0.00      0.00      0.00         2\n",
            "      225000       0.00      0.00      0.00         3\n",
            "      226000       0.00      0.00      0.00         1\n",
            "      226700       0.00      0.00      0.00         1\n",
            "      227000       0.00      0.00      0.00         2\n",
            "      228000       0.00      0.00      0.00         1\n",
            "      230000       0.00      0.00      0.00         3\n",
            "      230500       0.00      0.00      0.00         1\n",
            "      231500       0.00      0.00      0.00         1\n",
            "      232000       0.00      0.00      0.00         1\n",
            "      234000       0.00      0.00      0.00         1\n",
            "      235000       0.00      0.00      0.00         1\n",
            "      236500       0.00      0.00      0.00         1\n",
            "      239000       0.00      0.00      0.00         3\n",
            "      240000       0.00      0.00      0.00         4\n",
            "      241500       0.00      0.00      0.00         2\n",
            "      242000       0.00      0.00      0.00         0\n",
            "      243000       0.00      0.00      0.00         1\n",
            "      244000       0.00      0.00      0.00         1\n",
            "      248000       0.00      0.00      0.00         1\n",
            "      248900       0.00      0.00      0.00         1\n",
            "      250000       0.00      0.00      0.00         3\n",
            "      252000       0.00      0.00      0.00         1\n",
            "      252678       0.00      0.00      0.00         1\n",
            "      256000       0.00      0.00      0.00         0\n",
            "      258000       0.00      0.00      0.00         1\n",
            "      260000       0.00      0.00      0.00         2\n",
            "      260400       0.00      0.00      0.00         1\n",
            "      262500       0.00      0.00      0.00         1\n",
            "      266000       0.00      0.00      0.00         1\n",
            "      267000       0.00      0.00      0.00         1\n",
            "      269500       0.00      0.00      0.00         1\n",
            "      270000       0.00      0.00      0.00         1\n",
            "      271000       0.00      0.00      0.00         1\n",
            "      271900       0.00      0.00      0.00         1\n",
            "      272000       0.00      0.00      0.00         1\n",
            "      274300       0.00      0.00      0.00         1\n",
            "      274725       0.00      0.00      0.00         1\n",
            "      275000       0.00      0.00      0.00         1\n",
            "      276000       0.00      0.00      0.00         1\n",
            "      278000       0.00      0.00      0.00         1\n",
            "      280000       0.00      0.00      0.00         1\n",
            "      281213       0.00      0.00      0.00         1\n",
            "      282922       0.00      0.00      0.00         1\n",
            "      283463       0.00      0.00      0.00         1\n",
            "      284000       0.00      0.00      0.00         1\n",
            "      285000       0.00      0.00      0.00         2\n",
            "      290000       0.00      0.00      0.00         0\n",
            "      294000       0.00      0.00      0.00         1\n",
            "      295000       0.00      0.00      0.00         1\n",
            "      295493       0.00      0.00      0.00         1\n",
            "      299800       0.00      0.00      0.00         1\n",
            "      301500       0.00      0.00      0.00         1\n",
            "      302000       0.00      0.00      0.00         1\n",
            "      305900       0.00      0.00      0.00         1\n",
            "      306000       0.00      0.00      0.00         1\n",
            "      309000       0.00      0.00      0.00         1\n",
            "      310000       0.00      0.00      0.00         1\n",
            "      311500       0.00      0.00      0.00         1\n",
            "      314813       0.00      0.00      0.00         1\n",
            "      315000       0.00      0.00      0.00         2\n",
            "      315750       0.00      0.00      0.00         1\n",
            "      318000       0.00      0.00      0.00         0\n",
            "      320000       0.00      0.00      0.00         2\n",
            "      324000       0.00      0.00      0.00         1\n",
            "      325000       0.00      0.00      0.00         0\n",
            "      335000       0.00      0.00      0.00         1\n",
            "      336000       0.00      0.00      0.00         1\n",
            "      340000       0.00      0.00      0.00         0\n",
            "      341000       0.00      0.00      0.00         1\n",
            "      345000       0.00      0.00      0.00         1\n",
            "      348000       0.00      0.00      0.00         1\n",
            "      350000       0.00      0.00      0.00         1\n",
            "      372402       0.00      0.00      0.00         1\n",
            "      372500       0.00      0.00      0.00         1\n",
            "      377426       0.00      0.00      0.00         1\n",
            "      383970       0.00      0.00      0.00         1\n",
            "      385000       0.00      0.00      0.00         0\n",
            "      386250       0.00      0.00      0.00         0\n",
            "      392000       0.00      0.00      0.00         1\n",
            "      395192       0.00      0.00      0.00         1\n",
            "      402000       0.00      0.00      0.00         1\n",
            "      415298       0.00      0.00      0.00         1\n",
            "      424870       0.00      0.00      0.00         1\n",
            "      465000       0.00      0.00      0.00         1\n",
            "      466500       0.00      0.00      0.00         1\n",
            "      555000       0.00      0.00      0.00         1\n",
            "      611657       0.00      0.00      0.00         1\n",
            "\n",
            "    accuracy                           0.00       438\n",
            "   macro avg       0.00      0.00      0.00       438\n",
            "weighted avg       0.00      0.00      0.00       438\n",
            "\n"
          ]
        },
        {
          "output_type": "stream",
          "name": "stderr",
          "text": [
            "/usr/local/lib/python3.9/dist-packages/sklearn/metrics/_classification.py:1344: UndefinedMetricWarning: Precision and F-score are ill-defined and being set to 0.0 in labels with no predicted samples. Use `zero_division` parameter to control this behavior.\n",
            "  _warn_prf(average, modifier, msg_start, len(result))\n",
            "/usr/local/lib/python3.9/dist-packages/sklearn/metrics/_classification.py:1344: UndefinedMetricWarning: Recall and F-score are ill-defined and being set to 0.0 in labels with no true samples. Use `zero_division` parameter to control this behavior.\n",
            "  _warn_prf(average, modifier, msg_start, len(result))\n",
            "/usr/local/lib/python3.9/dist-packages/sklearn/metrics/_classification.py:1344: UndefinedMetricWarning: Precision and F-score are ill-defined and being set to 0.0 in labels with no predicted samples. Use `zero_division` parameter to control this behavior.\n",
            "  _warn_prf(average, modifier, msg_start, len(result))\n",
            "/usr/local/lib/python3.9/dist-packages/sklearn/metrics/_classification.py:1344: UndefinedMetricWarning: Recall and F-score are ill-defined and being set to 0.0 in labels with no true samples. Use `zero_division` parameter to control this behavior.\n",
            "  _warn_prf(average, modifier, msg_start, len(result))\n",
            "/usr/local/lib/python3.9/dist-packages/sklearn/metrics/_classification.py:1344: UndefinedMetricWarning: Precision and F-score are ill-defined and being set to 0.0 in labels with no predicted samples. Use `zero_division` parameter to control this behavior.\n",
            "  _warn_prf(average, modifier, msg_start, len(result))\n",
            "/usr/local/lib/python3.9/dist-packages/sklearn/metrics/_classification.py:1344: UndefinedMetricWarning: Recall and F-score are ill-defined and being set to 0.0 in labels with no true samples. Use `zero_division` parameter to control this behavior.\n",
            "  _warn_prf(average, modifier, msg_start, len(result))\n"
          ]
        }
      ]
    }
  ]
}